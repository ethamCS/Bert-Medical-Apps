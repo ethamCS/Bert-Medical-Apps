{
  "cells": [
    {
      "cell_type": "markdown",
      "metadata": {
        "id": "view-in-github",
        "colab_type": "text"
      },
      "source": [
        "<a href=\"https://colab.research.google.com/github/ethamCS/Bert-Medical-Apps/blob/main/AppProcessor.ipynb\" target=\"_parent\"><img src=\"https://colab.research.google.com/assets/colab-badge.svg\" alt=\"Open In Colab\"/></a>"
      ]
    },
    {
      "cell_type": "code",
      "execution_count": 23,
      "metadata": {
        "colab": {
          "base_uri": "https://localhost:8080/"
        },
        "id": "Ijct_47XZrz8",
        "outputId": "a26f4ebb-1a2f-4094-bd56-e35f158174c1"
      },
      "outputs": [
        {
          "output_type": "stream",
          "name": "stdout",
          "text": [
            "Requirement already satisfied: google_play_scraper in /usr/local/lib/python3.10/dist-packages (1.2.4)\n"
          ]
        }
      ],
      "source": [
        "!pip install google_play_scraper"
      ]
    },
    {
      "cell_type": "code",
      "execution_count": 24,
      "metadata": {
        "colab": {
          "base_uri": "https://localhost:8080/"
        },
        "id": "A8-XdaKBZtIV",
        "outputId": "2d0e8b89-a3e1-4fc0-f951-555d27b600ca"
      },
      "outputs": [
        {
          "output_type": "stream",
          "name": "stdout",
          "text": [
            "Requirement already satisfied: transformers in /usr/local/lib/python3.10/dist-packages (4.35.2)\n",
            "Requirement already satisfied: filelock in /usr/local/lib/python3.10/dist-packages (from transformers) (3.13.1)\n",
            "Requirement already satisfied: huggingface-hub<1.0,>=0.16.4 in /usr/local/lib/python3.10/dist-packages (from transformers) (0.19.4)\n",
            "Requirement already satisfied: numpy>=1.17 in /usr/local/lib/python3.10/dist-packages (from transformers) (1.23.5)\n",
            "Requirement already satisfied: packaging>=20.0 in /usr/local/lib/python3.10/dist-packages (from transformers) (23.2)\n",
            "Requirement already satisfied: pyyaml>=5.1 in /usr/local/lib/python3.10/dist-packages (from transformers) (6.0.1)\n",
            "Requirement already satisfied: regex!=2019.12.17 in /usr/local/lib/python3.10/dist-packages (from transformers) (2023.6.3)\n",
            "Requirement already satisfied: requests in /usr/local/lib/python3.10/dist-packages (from transformers) (2.31.0)\n",
            "Requirement already satisfied: tokenizers<0.19,>=0.14 in /usr/local/lib/python3.10/dist-packages (from transformers) (0.15.0)\n",
            "Requirement already satisfied: safetensors>=0.3.1 in /usr/local/lib/python3.10/dist-packages (from transformers) (0.4.0)\n",
            "Requirement already satisfied: tqdm>=4.27 in /usr/local/lib/python3.10/dist-packages (from transformers) (4.66.1)\n",
            "Requirement already satisfied: fsspec>=2023.5.0 in /usr/local/lib/python3.10/dist-packages (from huggingface-hub<1.0,>=0.16.4->transformers) (2023.6.0)\n",
            "Requirement already satisfied: typing-extensions>=3.7.4.3 in /usr/local/lib/python3.10/dist-packages (from huggingface-hub<1.0,>=0.16.4->transformers) (4.5.0)\n",
            "Requirement already satisfied: charset-normalizer<4,>=2 in /usr/local/lib/python3.10/dist-packages (from requests->transformers) (3.3.2)\n",
            "Requirement already satisfied: idna<4,>=2.5 in /usr/local/lib/python3.10/dist-packages (from requests->transformers) (3.4)\n",
            "Requirement already satisfied: urllib3<3,>=1.21.1 in /usr/local/lib/python3.10/dist-packages (from requests->transformers) (2.0.7)\n",
            "Requirement already satisfied: certifi>=2017.4.17 in /usr/local/lib/python3.10/dist-packages (from requests->transformers) (2023.7.22)\n"
          ]
        }
      ],
      "source": [
        "!pip install transformers"
      ]
    },
    {
      "cell_type": "code",
      "execution_count": null,
      "metadata": {
        "id": "voE-2SkWV75u"
      },
      "outputs": [],
      "source": [
        "import os\n",
        "import subprocess\n",
        "import json\n",
        "import time\n",
        "import concurrent.futures\n",
        "import torch\n",
        "import numpy as np\n",
        "import pandas as pd\n",
        "from transformers import AutoTokenizer\n",
        "from transformers import AutoModelForSequenceClassification\n",
        "from google_play_scraper import app"
      ]
    },
    {
      "cell_type": "code",
      "execution_count": 75,
      "metadata": {
        "id": "-8M8siptZkrM"
      },
      "outputs": [],
      "source": [
        "class AppProcessor:\n",
        "    \"\"\"\n",
        "    A class for processing and classifing mobile health apps (mhealth apps).\n",
        "    It includes methods for building a dataset by retrieving app descriptions\n",
        "    and identifying mhealth apps using a fine-tuned deberta model.\n",
        "\n",
        "    Attributes:\n",
        "    - app_id_list: List of unique app IDs to be processed.\n",
        "    - dataset_df: DataFrame containing app details ('app_id' and 'description').\n",
        "    - num_cores: Number of CPU cores available on the system.\n",
        "    - max_workers: Maximum number of worker threads for parallel processing.\n",
        "    - current_app_file_path: Path to file storing current app IDs.\n",
        "\n",
        "    Methods:\n",
        "    - build_dataset(): Builds a dataset by fetching app details in parallel and saving the result to a CSV file.\n",
        "    - read_app_ids(file_path): Reads a set of app IDs from a file.\n",
        "    - write_app_ids(file_path, app_ids): Writes a set of app IDs to a file.\n",
        "    - parse(): Parses app names from a CSV file, removing duplicates and updating the app_id_list.\n",
        "    - parse_apps(): Uses a pre-trained machine learning model to identify and categorize health-related apps,\n",
        "    storing the results in the mhealth_apps list.\n",
        "    \"\"\"\n",
        "    def __init__(self):\n",
        "        self.app_id_list = None\n",
        "        self.dataset_df = None\n",
        "        self.num_cores = os.cpu_count()\n",
        "        self.max_workers = self.num_cores if self.num_cores else 1\n",
        "        self.current_app_file_path = '/content/current_apps.txt'\n",
        "\n",
        "    def build_dataset(self):\n",
        "        apps_not_found = []\n",
        "        apps_added_count = 0\n",
        "        apps_not_found_count = 0\n",
        "        total_apps = len(self.app_id_list)\n",
        "\n",
        "        df = pd.DataFrame(columns=['app_id', 'description'])\n",
        "        print(f'Adding apps...')\n",
        "\n",
        "        def fetch_app_details(app_name):\n",
        "            nonlocal apps_added_count, apps_not_found_count\n",
        "            # if apps_added_count > 50:\n",
        "            #   return None\n",
        "            try:\n",
        "                result_app_details = app(\n",
        "                    app_name,\n",
        "                    lang='en',\n",
        "                    country='it' # Italy\n",
        "                )\n",
        "            except:\n",
        "                apps_not_found.append(app_name)\n",
        "                apps_not_found_count += 1\n",
        "                return None\n",
        "\n",
        "            apps_added_count += 1\n",
        "            if apps_added_count % 10 == 0:\n",
        "                print(f'{apps_added_count}/{total_apps} apps processed ({apps_added_count / total_apps * 100}% complete)')\n",
        "\n",
        "            description = result_app_details['description']\n",
        "            url = result_app_details['url']\n",
        "\n",
        "            return [app_name, description]\n",
        "\n",
        "        with concurrent.futures.ThreadPoolExecutor(max_workers=self.max_workers) as executor:\n",
        "            results = list(executor.map(fetch_app_details, self.app_id_list))\n",
        "\n",
        "        for result in results:\n",
        "            if result is not None:\n",
        "                df.loc[len(df.index)] = result\n",
        "\n",
        "        self.dataset_df = df\n",
        "        self.dataset_df.to_csv('apps_df.csv')\n",
        "\n",
        "    def read_app_ids(self,file_path):\n",
        "            with open(file_path, 'r') as file:\n",
        "                app_ids = file.read().splitlines()\n",
        "            return set(app_ids)\n",
        "\n",
        "    def write_app_ids(self,file_path, app_ids):\n",
        "            with open(file_path, 'w') as file:\n",
        "                file.write('\\n'.join(app_ids))\n",
        "\n",
        "    def parse(self):\n",
        "        df = pd.read_csv(\"/content/androzoo_nov_25_cleaned.csv\")\n",
        "        app_id_list = df['app_name'].tolist()\n",
        "        total_apps = len(app_id_list)\n",
        "        unique_apps = len(set(app_id_list))\n",
        "        print(f'Removed {total_apps - unique_apps} duplicate app names ({(unique_apps / total_apps)* 100:.3}% unique)')\n",
        "\n",
        "        self.app_id_list = list(set(app_id_list))\n",
        "        print(f'Apps to parse: {len(self.app_id_list)}')\n",
        "\n",
        "        file_path_2 = self.current_app_file_path\n",
        "\n",
        "        app_ids_set_1 = set(self.app_id_list)\n",
        "        app_ids_set_2 = self.read_app_ids(file_path_2)\n",
        "\n",
        "        common_app_ids = app_ids_set_1.intersection(app_ids_set_2)\n",
        "        all_app_ids = app_ids_set_1\n",
        "        self.app_id_list = all_app_ids - common_app_ids\n",
        "        self.app_id_list = list(self.app_id_list)\n",
        "\n",
        "    def parse_apps(self):\n",
        "        print('Parsing Apps...')\n",
        "\n",
        "        self.mhealth_apps = []\n",
        "        id2label = {0: \"NON-MHEALTH\", 1: \"MHEALTH\"}\n",
        "\n",
        "        if torch.cuda.is_available():\n",
        "            device = 'cuda'\n",
        "            print('Using GPU.')\n",
        "        else:\n",
        "            device = 'cpu'\n",
        "            print('GPU not available. Using CPU.')\n",
        "\n",
        "        tokenizer = AutoTokenizer.from_pretrained('etham13/MHealth_app_classifier')\n",
        "\n",
        "        model = AutoModelForSequenceClassification.from_pretrained('etham13/MHealth_app_classifier')\n",
        "        model.to(device)  # use gpu if available\n",
        "\n",
        "        for index, row in self.dataset_df.iterrows():\n",
        "\n",
        "            if 'description' in row and pd.notna(row['description']):\n",
        "                encoding = tokenizer(row['description'], return_tensors=\"pt\", max_length=512, truncation=True, padding=True)\n",
        "                encoding = {k: v.to(device) for k, v in encoding.items()}\n",
        "\n",
        "                outputs = model(**encoding)\n",
        "                predictions = outputs.logits.squeeze().cpu()\n",
        "\n",
        "                sigmoid = torch.nn.Sigmoid()\n",
        "                probs = sigmoid(torch.Tensor(predictions))\n",
        "                predictions[np.where(probs >= 0.5)] = 1\n",
        "                predicted_labels = [id2label[idx] for idx, label in enumerate(predictions) if label == 1.0]\n",
        "                if predicted_labels and predicted_labels[0] == 'MHEALTH':\n",
        "                    self.mhealth_apps.append(row['app_id'])\n",
        "\n",
        "                    if len(self.mhealth_apps) > 1 and len(self.mhealth_apps) % 100 == 0:\n",
        "                        print(f'{len(self.mhealth_apps)} / {index} mhealth apps processed ({len(self.mhealth_apps) / index * 100:.3}% of proccessed apps)')\n",
        "                        print(f'{index / len(self.dataset_df)* 100:.3}% complete')\n"
      ]
    },
    {
      "cell_type": "code",
      "execution_count": 76,
      "metadata": {
        "id": "X2OaQh-iy-bp",
        "colab": {
          "base_uri": "https://localhost:8080/"
        },
        "outputId": "c8d9fc93-8591-4dda-c034-e093bf026da6"
      },
      "outputs": [
        {
          "output_type": "stream",
          "name": "stdout",
          "text": [
            "Removed 2184217 duplicate app names (56.3% unique)\n",
            "Apps to parse: 2815783\n",
            "Adding apps...\n",
            "10/2806625 apps processed (0.0003562998263038347% complete)\n",
            "20/2806625 apps processed (0.0007125996526076694% complete)\n",
            "30/2806625 apps processed (0.001068899478911504% complete)\n",
            "40/2806625 apps processed (0.0014251993052153387% complete)\n",
            "50/2806625 apps processed (0.0017814991315191733% complete)\n"
          ]
        }
      ],
      "source": [
        "processor = AppProcessor()\n",
        "processor.parse()\n",
        "processor.build_dataset()"
      ]
    },
    {
      "cell_type": "code",
      "source": [
        "print(processor.dataset_df.info())"
      ],
      "metadata": {
        "colab": {
          "base_uri": "https://localhost:8080/"
        },
        "id": "3Es0jhNdC7PB",
        "outputId": "3edf4ddd-974c-49ea-f873-3dfff716e4c1"
      },
      "execution_count": 77,
      "outputs": [
        {
          "output_type": "stream",
          "name": "stdout",
          "text": [
            "<class 'pandas.core.frame.DataFrame'>\n",
            "Int64Index: 51 entries, 0 to 50\n",
            "Data columns (total 2 columns):\n",
            " #   Column       Non-Null Count  Dtype \n",
            "---  ------       --------------  ----- \n",
            " 0   app_id       51 non-null     object\n",
            " 1   description  51 non-null     object\n",
            "dtypes: object(2)\n",
            "memory usage: 1.2+ KB\n",
            "None\n"
          ]
        }
      ]
    },
    {
      "cell_type": "code",
      "execution_count": 78,
      "metadata": {
        "colab": {
          "base_uri": "https://localhost:8080/"
        },
        "id": "EJeMoeEEbDCR",
        "outputId": "2d4de1a1-e3d0-49db-84a7-8b5382841d91"
      },
      "outputs": [
        {
          "output_type": "stream",
          "name": "stdout",
          "text": [
            "Parsing Apps...\n",
            "GPU not available. Using CPU.\n"
          ]
        }
      ],
      "source": [
        "# remove unnecessary columns\n",
        "processor.dataset_df = processor.dataset_df[['app_id', 'description']]\n",
        "processor.parse_apps()"
      ]
    },
    {
      "cell_type": "code",
      "source": [
        "processor.mhealth_apps"
      ],
      "metadata": {
        "colab": {
          "base_uri": "https://localhost:8080/"
        },
        "id": "xMz1inPSSack",
        "outputId": "1b968014-0f14-4f4b-b731-e6f9d7ba6d26"
      },
      "execution_count": 80,
      "outputs": [
        {
          "output_type": "execute_result",
          "data": {
            "text/plain": [
              "['com.marcoparedesnunez.displasiatactil',\n",
              " 'com.trainerize.bfitpt',\n",
              " 'arproductions.andrew.headachelog']"
            ]
          },
          "metadata": {},
          "execution_count": 80
        }
      ]
    },
    {
      "cell_type": "code",
      "source": [
        "df_new = processor.dataset_df[processor.dataset_df['app_id'].isin(processor.mhealth_apps)][['app_id', 'description']]\n",
        "df_new"
      ],
      "metadata": {
        "colab": {
          "base_uri": "https://localhost:8080/",
          "height": 142
        },
        "id": "1mWCr3F_YUj3",
        "outputId": "fceb435d-9b50-41c0-b723-0f7a44ed4b12"
      },
      "execution_count": 81,
      "outputs": [
        {
          "output_type": "execute_result",
          "data": {
            "text/plain": [
              "                                  app_id  \\\n",
              "2  com.marcoparedesnunez.displasiatactil   \n",
              "7                  com.trainerize.bfitpt   \n",
              "8       arproductions.andrew.headachelog   \n",
              "\n",
              "                                         description  \n",
              "2  The application \"Touch Displasia\" is designed ...  \n",
              "7  With this fitness app, you can start tracking ...  \n",
              "8  Headache Log makes it <b>quick</b> and <b>easy...  "
            ],
            "text/html": [
              "\n",
              "  <div id=\"df-d92f6909-03ed-4bb9-9f9f-cb57fe45e215\" class=\"colab-df-container\">\n",
              "    <div>\n",
              "<style scoped>\n",
              "    .dataframe tbody tr th:only-of-type {\n",
              "        vertical-align: middle;\n",
              "    }\n",
              "\n",
              "    .dataframe tbody tr th {\n",
              "        vertical-align: top;\n",
              "    }\n",
              "\n",
              "    .dataframe thead th {\n",
              "        text-align: right;\n",
              "    }\n",
              "</style>\n",
              "<table border=\"1\" class=\"dataframe\">\n",
              "  <thead>\n",
              "    <tr style=\"text-align: right;\">\n",
              "      <th></th>\n",
              "      <th>app_id</th>\n",
              "      <th>description</th>\n",
              "    </tr>\n",
              "  </thead>\n",
              "  <tbody>\n",
              "    <tr>\n",
              "      <th>2</th>\n",
              "      <td>com.marcoparedesnunez.displasiatactil</td>\n",
              "      <td>The application \"Touch Displasia\" is designed ...</td>\n",
              "    </tr>\n",
              "    <tr>\n",
              "      <th>7</th>\n",
              "      <td>com.trainerize.bfitpt</td>\n",
              "      <td>With this fitness app, you can start tracking ...</td>\n",
              "    </tr>\n",
              "    <tr>\n",
              "      <th>8</th>\n",
              "      <td>arproductions.andrew.headachelog</td>\n",
              "      <td>Headache Log makes it &lt;b&gt;quick&lt;/b&gt; and &lt;b&gt;easy...</td>\n",
              "    </tr>\n",
              "  </tbody>\n",
              "</table>\n",
              "</div>\n",
              "    <div class=\"colab-df-buttons\">\n",
              "\n",
              "  <div class=\"colab-df-container\">\n",
              "    <button class=\"colab-df-convert\" onclick=\"convertToInteractive('df-d92f6909-03ed-4bb9-9f9f-cb57fe45e215')\"\n",
              "            title=\"Convert this dataframe to an interactive table.\"\n",
              "            style=\"display:none;\">\n",
              "\n",
              "  <svg xmlns=\"http://www.w3.org/2000/svg\" height=\"24px\" viewBox=\"0 -960 960 960\">\n",
              "    <path d=\"M120-120v-720h720v720H120Zm60-500h600v-160H180v160Zm220 220h160v-160H400v160Zm0 220h160v-160H400v160ZM180-400h160v-160H180v160Zm440 0h160v-160H620v160ZM180-180h160v-160H180v160Zm440 0h160v-160H620v160Z\"/>\n",
              "  </svg>\n",
              "    </button>\n",
              "\n",
              "  <style>\n",
              "    .colab-df-container {\n",
              "      display:flex;\n",
              "      gap: 12px;\n",
              "    }\n",
              "\n",
              "    .colab-df-convert {\n",
              "      background-color: #E8F0FE;\n",
              "      border: none;\n",
              "      border-radius: 50%;\n",
              "      cursor: pointer;\n",
              "      display: none;\n",
              "      fill: #1967D2;\n",
              "      height: 32px;\n",
              "      padding: 0 0 0 0;\n",
              "      width: 32px;\n",
              "    }\n",
              "\n",
              "    .colab-df-convert:hover {\n",
              "      background-color: #E2EBFA;\n",
              "      box-shadow: 0px 1px 2px rgba(60, 64, 67, 0.3), 0px 1px 3px 1px rgba(60, 64, 67, 0.15);\n",
              "      fill: #174EA6;\n",
              "    }\n",
              "\n",
              "    .colab-df-buttons div {\n",
              "      margin-bottom: 4px;\n",
              "    }\n",
              "\n",
              "    [theme=dark] .colab-df-convert {\n",
              "      background-color: #3B4455;\n",
              "      fill: #D2E3FC;\n",
              "    }\n",
              "\n",
              "    [theme=dark] .colab-df-convert:hover {\n",
              "      background-color: #434B5C;\n",
              "      box-shadow: 0px 1px 3px 1px rgba(0, 0, 0, 0.15);\n",
              "      filter: drop-shadow(0px 1px 2px rgba(0, 0, 0, 0.3));\n",
              "      fill: #FFFFFF;\n",
              "    }\n",
              "  </style>\n",
              "\n",
              "    <script>\n",
              "      const buttonEl =\n",
              "        document.querySelector('#df-d92f6909-03ed-4bb9-9f9f-cb57fe45e215 button.colab-df-convert');\n",
              "      buttonEl.style.display =\n",
              "        google.colab.kernel.accessAllowed ? 'block' : 'none';\n",
              "\n",
              "      async function convertToInteractive(key) {\n",
              "        const element = document.querySelector('#df-d92f6909-03ed-4bb9-9f9f-cb57fe45e215');\n",
              "        const dataTable =\n",
              "          await google.colab.kernel.invokeFunction('convertToInteractive',\n",
              "                                                    [key], {});\n",
              "        if (!dataTable) return;\n",
              "\n",
              "        const docLinkHtml = 'Like what you see? Visit the ' +\n",
              "          '<a target=\"_blank\" href=https://colab.research.google.com/notebooks/data_table.ipynb>data table notebook</a>'\n",
              "          + ' to learn more about interactive tables.';\n",
              "        element.innerHTML = '';\n",
              "        dataTable['output_type'] = 'display_data';\n",
              "        await google.colab.output.renderOutput(dataTable, element);\n",
              "        const docLink = document.createElement('div');\n",
              "        docLink.innerHTML = docLinkHtml;\n",
              "        element.appendChild(docLink);\n",
              "      }\n",
              "    </script>\n",
              "  </div>\n",
              "\n",
              "\n",
              "<div id=\"df-4b10b2fa-2985-4b56-b5b1-47ef25d93103\">\n",
              "  <button class=\"colab-df-quickchart\" onclick=\"quickchart('df-4b10b2fa-2985-4b56-b5b1-47ef25d93103')\"\n",
              "            title=\"Suggest charts\"\n",
              "            style=\"display:none;\">\n",
              "\n",
              "<svg xmlns=\"http://www.w3.org/2000/svg\" height=\"24px\"viewBox=\"0 0 24 24\"\n",
              "     width=\"24px\">\n",
              "    <g>\n",
              "        <path d=\"M19 3H5c-1.1 0-2 .9-2 2v14c0 1.1.9 2 2 2h14c1.1 0 2-.9 2-2V5c0-1.1-.9-2-2-2zM9 17H7v-7h2v7zm4 0h-2V7h2v10zm4 0h-2v-4h2v4z\"/>\n",
              "    </g>\n",
              "</svg>\n",
              "  </button>\n",
              "\n",
              "<style>\n",
              "  .colab-df-quickchart {\n",
              "      --bg-color: #E8F0FE;\n",
              "      --fill-color: #1967D2;\n",
              "      --hover-bg-color: #E2EBFA;\n",
              "      --hover-fill-color: #174EA6;\n",
              "      --disabled-fill-color: #AAA;\n",
              "      --disabled-bg-color: #DDD;\n",
              "  }\n",
              "\n",
              "  [theme=dark] .colab-df-quickchart {\n",
              "      --bg-color: #3B4455;\n",
              "      --fill-color: #D2E3FC;\n",
              "      --hover-bg-color: #434B5C;\n",
              "      --hover-fill-color: #FFFFFF;\n",
              "      --disabled-bg-color: #3B4455;\n",
              "      --disabled-fill-color: #666;\n",
              "  }\n",
              "\n",
              "  .colab-df-quickchart {\n",
              "    background-color: var(--bg-color);\n",
              "    border: none;\n",
              "    border-radius: 50%;\n",
              "    cursor: pointer;\n",
              "    display: none;\n",
              "    fill: var(--fill-color);\n",
              "    height: 32px;\n",
              "    padding: 0;\n",
              "    width: 32px;\n",
              "  }\n",
              "\n",
              "  .colab-df-quickchart:hover {\n",
              "    background-color: var(--hover-bg-color);\n",
              "    box-shadow: 0 1px 2px rgba(60, 64, 67, 0.3), 0 1px 3px 1px rgba(60, 64, 67, 0.15);\n",
              "    fill: var(--button-hover-fill-color);\n",
              "  }\n",
              "\n",
              "  .colab-df-quickchart-complete:disabled,\n",
              "  .colab-df-quickchart-complete:disabled:hover {\n",
              "    background-color: var(--disabled-bg-color);\n",
              "    fill: var(--disabled-fill-color);\n",
              "    box-shadow: none;\n",
              "  }\n",
              "\n",
              "  .colab-df-spinner {\n",
              "    border: 2px solid var(--fill-color);\n",
              "    border-color: transparent;\n",
              "    border-bottom-color: var(--fill-color);\n",
              "    animation:\n",
              "      spin 1s steps(1) infinite;\n",
              "  }\n",
              "\n",
              "  @keyframes spin {\n",
              "    0% {\n",
              "      border-color: transparent;\n",
              "      border-bottom-color: var(--fill-color);\n",
              "      border-left-color: var(--fill-color);\n",
              "    }\n",
              "    20% {\n",
              "      border-color: transparent;\n",
              "      border-left-color: var(--fill-color);\n",
              "      border-top-color: var(--fill-color);\n",
              "    }\n",
              "    30% {\n",
              "      border-color: transparent;\n",
              "      border-left-color: var(--fill-color);\n",
              "      border-top-color: var(--fill-color);\n",
              "      border-right-color: var(--fill-color);\n",
              "    }\n",
              "    40% {\n",
              "      border-color: transparent;\n",
              "      border-right-color: var(--fill-color);\n",
              "      border-top-color: var(--fill-color);\n",
              "    }\n",
              "    60% {\n",
              "      border-color: transparent;\n",
              "      border-right-color: var(--fill-color);\n",
              "    }\n",
              "    80% {\n",
              "      border-color: transparent;\n",
              "      border-right-color: var(--fill-color);\n",
              "      border-bottom-color: var(--fill-color);\n",
              "    }\n",
              "    90% {\n",
              "      border-color: transparent;\n",
              "      border-bottom-color: var(--fill-color);\n",
              "    }\n",
              "  }\n",
              "</style>\n",
              "\n",
              "  <script>\n",
              "    async function quickchart(key) {\n",
              "      const quickchartButtonEl =\n",
              "        document.querySelector('#' + key + ' button');\n",
              "      quickchartButtonEl.disabled = true;  // To prevent multiple clicks.\n",
              "      quickchartButtonEl.classList.add('colab-df-spinner');\n",
              "      try {\n",
              "        const charts = await google.colab.kernel.invokeFunction(\n",
              "            'suggestCharts', [key], {});\n",
              "      } catch (error) {\n",
              "        console.error('Error during call to suggestCharts:', error);\n",
              "      }\n",
              "      quickchartButtonEl.classList.remove('colab-df-spinner');\n",
              "      quickchartButtonEl.classList.add('colab-df-quickchart-complete');\n",
              "    }\n",
              "    (() => {\n",
              "      let quickchartButtonEl =\n",
              "        document.querySelector('#df-4b10b2fa-2985-4b56-b5b1-47ef25d93103 button');\n",
              "      quickchartButtonEl.style.display =\n",
              "        google.colab.kernel.accessAllowed ? 'block' : 'none';\n",
              "    })();\n",
              "  </script>\n",
              "</div>\n",
              "    </div>\n",
              "  </div>\n"
            ]
          },
          "metadata": {},
          "execution_count": 81
        }
      ]
    },
    {
      "cell_type": "code",
      "source": [
        "processor.write_app_ids('/content/new_mhealth_apps.txt', processor.mhealth_apps)"
      ],
      "metadata": {
        "id": "lC9XPRd6qVCj"
      },
      "execution_count": 82,
      "outputs": []
    }
  ],
  "metadata": {
    "colab": {
      "provenance": [],
      "include_colab_link": true
    },
    "kernelspec": {
      "display_name": "Python 3",
      "name": "python3"
    },
    "language_info": {
      "codemirror_mode": {
        "name": "ipython",
        "version": 3
      },
      "file_extension": ".py",
      "mimetype": "text/x-python",
      "name": "python",
      "nbconvert_exporter": "python",
      "pygments_lexer": "ipython3",
      "version": "3.11.6"
    }
  },
  "nbformat": 4,
  "nbformat_minor": 0
}